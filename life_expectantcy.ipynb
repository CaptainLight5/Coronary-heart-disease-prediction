{
  "nbformat": 4,
  "nbformat_minor": 0,
  "metadata": {
    "colab": {
      "provenance": [],
      "authorship_tag": "ABX9TyNeVAAfC5Gz8XzzliAOoOcc",
      "include_colab_link": true
    },
    "kernelspec": {
      "name": "python3",
      "display_name": "Python 3"
    },
    "language_info": {
      "name": "python"
    }
  },
  "cells": [
    {
      "cell_type": "markdown",
      "metadata": {
        "id": "view-in-github",
        "colab_type": "text"
      },
      "source": [
        "<a href=\"https://colab.research.google.com/github/CaptainLight5/Coronary-heart-disease-prediction/blob/main/life_expectantcy.ipynb\" target=\"_parent\"><img src=\"https://colab.research.google.com/assets/colab-badge.svg\" alt=\"Open In Colab\"/></a>"
      ]
    },
    {
      "cell_type": "code",
      "execution_count": 3,
      "metadata": {
        "colab": {
          "base_uri": "https://localhost:8080/"
        },
        "id": "T_vJBwocw9RR",
        "outputId": "fb5de9d8-b7f6-474b-9df8-d0353cd57f91"
      },
      "outputs": [
        {
          "output_type": "stream",
          "name": "stdout",
          "text": [
            "Requirement already satisfied: pyspark in /usr/local/lib/python3.10/dist-packages (3.5.3)\n",
            "Requirement already satisfied: py4j==0.10.9.7 in /usr/local/lib/python3.10/dist-packages (from pyspark) (0.10.9.7)\n"
          ]
        }
      ],
      "source": [
        "# Install Java\n",
        "!apt-get install openjdk-8-jdk-headless -qq > /dev/null\n",
        "\n",
        "# Install PySpark\n",
        "!pip install pyspark"
      ]
    },
    {
      "cell_type": "code",
      "source": [
        "import os\n",
        "\n",
        "# Set JAVA_HOME environment variable\n",
        "os.environ[\"JAVA_HOME\"] = \"/usr/lib/jvm/java-8-openjdk-amd64\"\n",
        "os.environ[\"PATH\"] += \":/usr/lib/jvm/java-8-openjdk-amd64/bin\""
      ],
      "metadata": {
        "id": "vZV4e3psyJ7w"
      },
      "execution_count": 44,
      "outputs": []
    },
    {
      "cell_type": "code",
      "source": [
        "# Import necessary libraries\n",
        "from pyspark.sql import SparkSession\n",
        "from pyspark.sql.functions import col, when\n",
        "from pyspark.ml.feature import VectorAssembler, StandardScaler, PCA\n",
        "from pyspark.ml.classification import LogisticRegression, RandomForestClassifier, DecisionTreeClassifier, GBTClassifier\n",
        "from pyspark.ml.regression import RandomForestRegressor, GBTRegressor\n",
        "from pyspark.ml.evaluation import BinaryClassificationEvaluator, RegressionEvaluator, MulticlassClassificationEvaluator\n",
        "from pyspark.ml.tuning import ParamGridBuilder, CrossValidator\n",
        "\n",
        "# Initialize Spark session\n",
        "spark = SparkSession.builder.appName(\"LifeExpectancyPrediction\").getOrCreate()\n",
        "\n",
        "# Load dataset\n",
        "data = spark.read.csv(\"Life Expectancy Data.csv\", header=True, inferSchema=True)\n",
        "data.show(5)\n",
        "data.printSchema()"
      ],
      "metadata": {
        "colab": {
          "base_uri": "https://localhost:8080/"
        },
        "id": "7vVHZ2DQQVY4",
        "outputId": "c24e61cd-e54a-4dfe-f685-a3e83ddf6cb4"
      },
      "execution_count": 45,
      "outputs": [
        {
          "output_type": "stream",
          "name": "stdout",
          "text": [
            "+-----------+----+----------+----------------+---------------+-------------+-------+----------------------+-----------+--------+-----+------------------+-----+-----------------+-----------+---------+----------+-----------+---------------------+-------------------+-------------------------------+---------+\n",
            "|    Country|Year|    Status|Life expectancy |Adult Mortality|infant deaths|Alcohol|percentage expenditure|Hepatitis B|Measles | BMI |under-five deaths |Polio|Total expenditure|Diphtheria | HIV/AIDS|       GDP| Population| thinness  1-19 years| thinness 5-9 years|Income composition of resources|Schooling|\n",
            "+-----------+----+----------+----------------+---------------+-------------+-------+----------------------+-----------+--------+-----+------------------+-----+-----------------+-----------+---------+----------+-----------+---------------------+-------------------+-------------------------------+---------+\n",
            "|Afghanistan|2015|Developing|            65.0|            263|           62|   0.01|           71.27962362|         65|    1154| 19.1|                83|    6|             8.16|         65|      0.1| 584.25921|3.3736494E7|                 17.2|               17.3|                          0.479|     10.1|\n",
            "|Afghanistan|2014|Developing|            59.9|            271|           64|   0.01|           73.52358168|         62|     492| 18.6|                86|   58|             8.18|         62|      0.1|612.696514|   327582.0|                 17.5|               17.5|                          0.476|     10.0|\n",
            "|Afghanistan|2013|Developing|            59.9|            268|           66|   0.01|           73.21924272|         64|     430| 18.1|                89|   62|             8.13|         64|      0.1|631.744976|3.1731688E7|                 17.7|               17.7|                           0.47|      9.9|\n",
            "|Afghanistan|2012|Developing|            59.5|            272|           69|   0.01|            78.1842153|         67|    2787| 17.6|                93|   67|             8.52|         67|      0.1|   669.959|  3696958.0|                 17.9|               18.0|                          0.463|      9.8|\n",
            "|Afghanistan|2011|Developing|            59.2|            275|           71|   0.01|           7.097108703|         68|    3013| 17.2|                97|   68|             7.87|         68|      0.1| 63.537231|  2978599.0|                 18.2|               18.2|                          0.454|      9.5|\n",
            "+-----------+----+----------+----------------+---------------+-------------+-------+----------------------+-----------+--------+-----+------------------+-----+-----------------+-----------+---------+----------+-----------+---------------------+-------------------+-------------------------------+---------+\n",
            "only showing top 5 rows\n",
            "\n",
            "root\n",
            " |-- Country: string (nullable = true)\n",
            " |-- Year: integer (nullable = true)\n",
            " |-- Status: string (nullable = true)\n",
            " |-- Life expectancy : double (nullable = true)\n",
            " |-- Adult Mortality: integer (nullable = true)\n",
            " |-- infant deaths: integer (nullable = true)\n",
            " |-- Alcohol: double (nullable = true)\n",
            " |-- percentage expenditure: double (nullable = true)\n",
            " |-- Hepatitis B: integer (nullable = true)\n",
            " |-- Measles : integer (nullable = true)\n",
            " |--  BMI : double (nullable = true)\n",
            " |-- under-five deaths : integer (nullable = true)\n",
            " |-- Polio: integer (nullable = true)\n",
            " |-- Total expenditure: double (nullable = true)\n",
            " |-- Diphtheria : integer (nullable = true)\n",
            " |--  HIV/AIDS: double (nullable = true)\n",
            " |-- GDP: double (nullable = true)\n",
            " |-- Population: double (nullable = true)\n",
            " |--  thinness  1-19 years: double (nullable = true)\n",
            " |--  thinness 5-9 years: double (nullable = true)\n",
            " |-- Income composition of resources: double (nullable = true)\n",
            " |-- Schooling: double (nullable = true)\n",
            "\n"
          ]
        }
      ]
    },
    {
      "cell_type": "code",
      "source": [
        "# Section 1: Data Preprocessing\n",
        "# Drop rows with missing target values\n",
        "data = data.na.drop(subset=[\"Life expectancy \"])\n",
        "\n",
        "# Impute missing values in other columns with median\n",
        "numeric_cols = [c for c, t in data.dtypes if t in ['int', 'double']] # This filters for numeric columns\n",
        "for col_name in numeric_cols: # this iterates and impute on numeric columns\n",
        "    median_val = data.approxQuantile(col_name, [0.5], 0.0)[0]\n",
        "    data = data.na.fill({col_name: median_val})\n",
        "\n",
        "# Convert 'Status' to numerical\n",
        "from pyspark.ml.feature import StringIndexer\n",
        "indexer = StringIndexer(inputCol=\"Status\", outputCol=\"Status_Index\")\n",
        "data = indexer.fit(data).transform(data)"
      ],
      "metadata": {
        "id": "iPWElu4rQXV4"
      },
      "execution_count": 46,
      "outputs": []
    },
    {
      "cell_type": "code",
      "source": [
        "# Section 2: Feature Engineering\n",
        "# Binarize Life Expectancy for Classification\n",
        "# Binarize the target variable for classification\n",
        "life_expectancy_threshold = 70  # here threshold was set for classification\n",
        "data = data.withColumn(\"Life_Expectancy_Binary\", when(col(\"Life expectancy \") >= life_expectancy_threshold, 1).otherwise(0))\n",
        "\n",
        "# Vectorize Features\n",
        "feature_columns = [c for c in data.columns if c not in [\"Life expectancy\", \"Life_Expectancy_Binary\", \"Country\", \"Status\"]]\n",
        "assembler = VectorAssembler(inputCols=feature_columns, outputCol=\"features_unscaled\")\n",
        "data = assembler.transform(data)\n",
        "\n",
        "# Standardize Features\n",
        "scaler = StandardScaler(inputCol=\"features_unscaled\", outputCol=\"features\")\n",
        "scaler_model = scaler.fit(data)\n",
        "data = scaler_model.transform(data)\n",
        "\n",
        "# Feature Extraction: PCA\n",
        "pca = PCA(k=10, inputCol=\"features\", outputCol=\"pca_features\")\n",
        "pca_model = pca.fit(data)\n",
        "data = pca_model.transform(data)"
      ],
      "metadata": {
        "id": "cxSxr14XQzi5"
      },
      "execution_count": 33,
      "outputs": []
    },
    {
      "cell_type": "code",
      "source": [
        "# Section 3: Splitting the Data\n",
        "train, test = data.randomSplit([0.8, 0.2], seed=42)\n"
      ],
      "metadata": {
        "id": "QtUuc600RY8h"
      },
      "execution_count": 34,
      "outputs": []
    },
    {
      "cell_type": "code",
      "source": [
        "# Section 4: Classification Models\n",
        "print(\"\\n--- Classification Models ---\")\n",
        "classifiers = {\n",
        "    \"Logistic Regression\": LogisticRegression(featuresCol=\"pca_features\", labelCol=\"Life_Expectancy_Binary\"),\n",
        "    \"Random Forest\": RandomForestClassifier(featuresCol=\"pca_features\", labelCol=\"Life_Expectancy_Binary\"),\n",
        "    \"Decision Tree\": DecisionTreeClassifier(featuresCol=\"pca_features\", labelCol=\"Life_Expectancy_Binary\"),\n",
        "    \"Gradient Boosting\": GBTClassifier(featuresCol=\"pca_features\", labelCol=\"Life_Expectancy_Binary\")\n",
        "}\n",
        "\n",
        "classification_results = {}\n",
        "\n",
        "for name, model in classifiers.items():\n",
        "    print(f\"\\nTraining {name} (Classification)...\")\n",
        "\n",
        "    # Conditional parameter grid building\n",
        "    if name in [\"Random Forest\", \"Decision Tree\", \"Gradient Boosting\"]:  # Apply to tree-based models only\n",
        "        param_grid = ParamGridBuilder().addGrid(model.maxDepth, [5, 10]).addGrid(model.maxBins, [32, 64]).build()\n",
        "    else:  # For Logistic Regression, use an empty parameter grid\n",
        "        param_grid = ParamGridBuilder().build()\n",
        "\n",
        "    crossval = CrossValidator(estimator=model, estimatorParamMaps=param_grid,\n",
        "                              evaluator=BinaryClassificationEvaluator(labelCol=\"Life_Expectancy_Binary\"),\n",
        "                              numFolds=5)\n",
        "    cv_model = crossval.fit(train)\n",
        "    predictions = cv_model.transform(test)\n",
        "\n",
        "    # Evaluate metrics\n",
        "    evaluator = MulticlassClassificationEvaluator(labelCol=\"Life_Expectancy_Binary\")\n",
        "    accuracy = evaluator.evaluate(predictions, {evaluator.metricName: \"accuracy\"})\n",
        "    precision = evaluator.evaluate(predictions, {evaluator.metricName: \"weightedPrecision\"})\n",
        "    f1 = evaluator.evaluate(predictions, {evaluator.metricName: \"f1\"})\n",
        "    roc_auc = BinaryClassificationEvaluator(labelCol=\"Life_Expectancy_Binary\", metricName=\"areaUnderROC\").evaluate(predictions)\n",
        "\n",
        "    # Collect results\n",
        "    classification_results[name] = {\n",
        "        \"Model\": cv_model,\n",
        "        \"Accuracy\": accuracy,\n",
        "        \"Precision\": precision,\n",
        "        \"F1 Score\": f1,\n",
        "        \"ROC AUC\": roc_auc\n",
        "    }\n",
        "    print(f\"{name} - Accuracy: {accuracy}, Precision: {precision}, F1 Score: {f1}, ROC AUC: {roc_auc}\")\n",
        "\n",
        "# Print Classification Results Summary\n",
        "print(\"\\n--- Classification Results Summary ---\")\n",
        "for model_name, metrics in classification_results.items():\n",
        "    print(f\"{model_name}:\")\n",
        "    print(f\"  Accuracy: {metrics['Accuracy']}\")\n",
        "    print(f\"  Precision: {metrics['Precision']}\")\n",
        "    print(f\"  F1 Score: {metrics['F1 Score']}\")\n",
        "    print(f\"  ROC AUC: {metrics['ROC AUC']}\")\n"
      ],
      "metadata": {
        "colab": {
          "base_uri": "https://localhost:8080/"
        },
        "id": "oXenJNhHeuC6",
        "outputId": "7eb7c5db-a943-4751-a9fd-3e91eb450938"
      },
      "execution_count": 58,
      "outputs": [
        {
          "output_type": "stream",
          "name": "stdout",
          "text": [
            "\n",
            "--- Classification Models ---\n",
            "\n",
            "Training Logistic Regression (Classification)...\n",
            "Logistic Regression - Accuracy: 0.9364485981308411, Precision: 0.936864850533572, F1 Score: 0.9363251755636517, ROC AUC: 0.9815904292751584\n",
            "\n",
            "Training Random Forest (Classification)...\n",
            "Random Forest - Accuracy: 0.9289719626168225, Precision: 0.929179664580384, F1 Score: 0.9288657022509629, ROC AUC: 0.9844334975369455\n",
            "\n",
            "Training Decision Tree (Classification)...\n",
            "Decision Tree - Accuracy: 0.8953271028037383, Precision: 0.8953285295619007, F1 Score: 0.8952141719285583, ROC AUC: 0.9323926812104151\n",
            "\n",
            "Training Gradient Boosting (Classification)...\n",
            "Gradient Boosting - Accuracy: 0.9214953271028037, Precision: 0.9226318559365414, F1 Score: 0.9212241077191927, ROC AUC: 0.9781562280084446\n",
            "\n",
            "--- Classification Results Summary ---\n",
            "Logistic Regression:\n",
            "  Accuracy: 0.9364485981308411\n",
            "  Precision: 0.936864850533572\n",
            "  F1 Score: 0.9363251755636517\n",
            "  ROC AUC: 0.9815904292751584\n",
            "Random Forest:\n",
            "  Accuracy: 0.9289719626168225\n",
            "  Precision: 0.929179664580384\n",
            "  F1 Score: 0.9288657022509629\n",
            "  ROC AUC: 0.9844334975369455\n",
            "Decision Tree:\n",
            "  Accuracy: 0.8953271028037383\n",
            "  Precision: 0.8953285295619007\n",
            "  F1 Score: 0.8952141719285583\n",
            "  ROC AUC: 0.9323926812104151\n",
            "Gradient Boosting:\n",
            "  Accuracy: 0.9214953271028037\n",
            "  Precision: 0.9226318559365414\n",
            "  F1 Score: 0.9212241077191927\n",
            "  ROC AUC: 0.9781562280084446\n"
          ]
        }
      ]
    },
    {
      "cell_type": "code",
      "source": [
        "# Section 5: Regression Models\n",
        "print(\"\\n--- Regression Models ---\")\n",
        "regressors = {\n",
        "    \"Random Forest Regression\": RandomForestRegressor(featuresCol=\"pca_features\", labelCol=\"Life expectancy \"),\n",
        "    \"Gradient Boosting Regression\": GBTRegressor(featuresCol=\"pca_features\", labelCol=\"Life expectancy \")\n",
        "}\n",
        "\n",
        "regression_results = {}\n",
        "\n",
        "for name, model in regressors.items():\n",
        "    print(f\"\\nTraining {name} (Regression)...\")\n",
        "    param_grid = ParamGridBuilder().addGrid(model.maxDepth, [5, 10]).addGrid(model.maxBins, [32, 64]).build()\n",
        "    crossval = CrossValidator(estimator=model, estimatorParamMaps=param_grid,\n",
        "                              evaluator=RegressionEvaluator(labelCol=\"Life expectancy \"),\n",
        "                              numFolds=5)\n",
        "    cv_model = crossval.fit(train)\n",
        "    predictions = cv_model.transform(test)\n",
        "\n",
        "    # Evaluate metrics\n",
        "    evaluator = RegressionEvaluator(labelCol=\"Life expectancy \")\n",
        "    mse = evaluator.evaluate(predictions, {evaluator.metricName: \"mse\"})\n",
        "    rmse = evaluator.evaluate(predictions, {evaluator.metricName: \"rmse\"})\n",
        "    r2 = evaluator.evaluate(predictions, {evaluator.metricName: \"r2\"})\n",
        "\n",
        "    # Collect results\n",
        "    regression_results[name] = {\n",
        "        \"Model\": cv_model,\n",
        "        \"MSE\": mse,\n",
        "        \"RMSE\": rmse,\n",
        "        \"R2\": r2\n",
        "    }\n",
        "    print(f\"{name} - MSE: {mse}, RMSE: {rmse}, R2: {r2}\")\n",
        "\n",
        "# Print Regression Results Summary\n",
        "print(\"\\n--- Regression Results Summary ---\")\n",
        "for model_name, metrics in regression_results.items():\n",
        "    print(f\"{model_name}:\")\n",
        "    print(f\"  MSE: {metrics['MSE']}\")\n",
        "    print(f\"  RMSE: {metrics['RMSE']}\")\n",
        "    print(f\"  R²: {metrics['R2']}\")"
      ],
      "metadata": {
        "colab": {
          "base_uri": "https://localhost:8080/"
        },
        "id": "q5K2sU3TgS_6",
        "outputId": "c1919793-a0dc-4cd4-c02d-1999fc671d33"
      },
      "execution_count": 59,
      "outputs": [
        {
          "output_type": "stream",
          "name": "stdout",
          "text": [
            "\n",
            "--- Regression Models ---\n",
            "\n",
            "Training Random Forest Regression (Regression)...\n",
            "Random Forest Regression - MSE: 7.656071741662913, RMSE: 2.766960740896573, R2: 0.9227878667243148\n",
            "\n",
            "Training Gradient Boosting Regression (Regression)...\n",
            "Gradient Boosting Regression - MSE: 11.057201076602523, RMSE: 3.32523699555423, R2: 0.8884871887319531\n",
            "\n",
            "--- Regression Results Summary ---\n",
            "Random Forest Regression:\n",
            "  MSE: 7.656071741662913\n",
            "  RMSE: 2.766960740896573\n",
            "  R²: 0.9227878667243148\n",
            "Gradient Boosting Regression:\n",
            "  MSE: 11.057201076602523\n",
            "  RMSE: 3.32523699555423\n",
            "  R²: 0.8884871887319531\n"
          ]
        }
      ]
    }
  ]
}